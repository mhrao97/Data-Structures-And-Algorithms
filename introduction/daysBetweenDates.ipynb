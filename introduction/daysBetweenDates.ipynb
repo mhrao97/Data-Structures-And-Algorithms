{
 "cells": [
  {
   "cell_type": "markdown",
   "metadata": {},
   "source": [
    "# Days Between Dates\n",
    "\n",
    "This lesson will focus on one problem: calculating the number of days between two dates. \n",
    "\n",
    "This workspace is yours to use in whatever way is helpful. You might want to keep it open in a second tab as you go through the videos. \n",
    "\n"
   ]
  },
  {
   "cell_type": "code",
   "execution_count": 1,
   "metadata": {},
   "outputs": [],
   "source": [
    "import sys\n",
    "sys.path.append(\"C:/Users/M/Anaconda3/Lib/site-packages/\")"
   ]
  },
  {
   "cell_type": "code",
   "execution_count": 1,
   "metadata": {},
   "outputs": [
    {
     "name": "stdout",
     "output_type": "stream",
     "text": [
      "Test case passed!\n",
      "Test case passed!\n",
      "Test case passed!\n"
     ]
    }
   ],
   "source": [
    "# Define a daysBetweenDates procedure that would produce the\n",
    "# correct output if there was a correct nextDay procedure.\n",
    "#\n",
    "# Note that this will NOT produce correct outputs yet, since\n",
    "# our nextDay procedure assumes all months have 30 days\n",
    "# (hence a year is 360 days, instead of 365).\n",
    "# \n",
    "\n",
    "def nextDay(year, month, day):\n",
    "    \"\"\"Simple version: assume every month has 30 days\"\"\"\n",
    "    if day < 30:\n",
    "        return year, month, day + 1\n",
    "    else:\n",
    "        if month == 12:\n",
    "            return year + 1, 1, 1\n",
    "        else:\n",
    "            return year, month + 1, 1\n",
    "        \n",
    "def daysBetweenDates(year1, month1, day1, year2, month2, day2):\n",
    "    \"\"\"Returns the number of days between year1/month1/day1\n",
    "       and year2/month2/day2. Assumes inputs are valid dates\n",
    "       in Gregorian calendar, and the first date is not after\n",
    "       the second.\"\"\"\n",
    "        \n",
    "    # YOUR CODE HERE!\n",
    "    years = (year2 - year1) \n",
    "    months = (month2 - month1)\n",
    "    days = (day2 - day1) + (months * 30) + (years * 360)\n",
    "    \n",
    "    return days\n",
    "\n",
    "def test():\n",
    "    test_cases = [((2012,9,30,2012,10,30),30), \n",
    "                  ((2012,1,1,2013,1,1),360),\n",
    "                  ((2012,9,1,2012,9,4),3)]\n",
    "    \n",
    "    for (args, answer) in test_cases:\n",
    "        result = daysBetweenDates(*args)\n",
    "        if result != answer:\n",
    "            print(\"Test with data:\", args, \"failed\")\n",
    "        else:\n",
    "            print (\"Test case passed!\")\n",
    "\n",
    "test()\n",
    "    \n"
   ]
  },
  {
   "cell_type": "code",
   "execution_count": 2,
   "metadata": {},
   "outputs": [],
   "source": [
    "def dateIsBefore(year1, month1, day1, year2, month2, day2):\n",
    "    \"\"\" Returns True is year1-month1-day1 is before year2-month2-day2\"\"\"\n",
    "    if year1 < year2:\n",
    "        return True\n",
    "    if year1 == year2:\n",
    "        if month1 < month2:\n",
    "            return True\n",
    "        if month1 == month2:\n",
    "            return day1 < day2\n",
    "    return False"
   ]
  },
  {
   "cell_type": "code",
   "execution_count": 3,
   "metadata": {},
   "outputs": [
    {
     "name": "stdout",
     "output_type": "stream",
     "text": [
      "Test case passed!\n",
      "Test case passed!\n",
      "Test case passed!\n",
      "Nice job! Test case (2013, 1, 1, 1999, 12, 31) correctly raises AssertionError!\n",
      "\n"
     ]
    }
   ],
   "source": [
    "# Credit goes to Websten from forums\n",
    "#\n",
    "# Program defensively:\n",
    "#\n",
    "# What do you do if your input is invalid? For example what should\n",
    "# happen when date 1 is not before date 2?\n",
    "#\n",
    "# Add an assertion to the code for daysBetweenDates to give\n",
    "# an assertion failure when the inputs are invalid. This should\n",
    "# occur when the first date is not before the second date.\n",
    "#  \n",
    "\n",
    "def nextDay(year, month, day):\n",
    "    \"\"\"Simple version: assume every month has 30 days\"\"\"\n",
    "    if day < 30:\n",
    "        return year, month, day + 1\n",
    "    else:\n",
    "        if month == 12:\n",
    "            return year + 1, 1, 1\n",
    "        else:\n",
    "            return year, month + 1, 1\n",
    "\n",
    "def daysBetweenDates(year1, month1, day1, year2, month2, day2):\n",
    "    \"\"\"Returns the number of days between year1/month1/day1\n",
    "       and year2/month2/day2. Assumes inputs are valid dates\n",
    "       in Gregorian calendar.\"\"\"\n",
    "    # program defensively! Add an assertion if the input is not valid!\n",
    "    assert(dateIsBefore(year1, month1, day1, year2, month2, day2))    \n",
    "\n",
    "    days = 0\n",
    "    while dateIsBefore(year1, month1, day1, year2, month2, day2):\n",
    "        year1, month1, day1 = nextDay(year1, month1, day1)\n",
    "        days += 1\n",
    "    return days\n",
    "\n",
    "def test():\n",
    "    test_cases = [((2012,9,30,2012,10,30),30), \n",
    "                  ((2012,1,1,2013,1,1),360),\n",
    "                  ((2012,9,1,2012,9,4),3),\n",
    "                  ((2013,1,1,1999,12,31), \"AssertionError\")]\n",
    "    \n",
    "    for (args, answer) in test_cases:\n",
    "        try:\n",
    "            result = daysBetweenDates(*args)\n",
    "            if result == answer and answer != \"AssertionError\":\n",
    "                print (\"Test case passed!\")\n",
    "            else:\n",
    "                print (\"Test with data:\", args, \"failed\")\n",
    "    \n",
    "        except AssertionError:\n",
    "            if answer == \"AssertionError\":\n",
    "                print (\"Nice job! Test case {0} correctly raises AssertionError!\\n\".format(args))\n",
    "            else:\n",
    "                print (\"Check your work! Test case {0} should not raise AssertionError!\\n\".format(args) )           \n",
    "test()"
   ]
  },
  {
   "cell_type": "markdown",
   "metadata": {},
   "source": [
    "A stub is a dummy implementation of the method. It can be used for testing before you code the whole function.\n",
    "\n",
    "In order to answer this question, you should think about the dependencies between the various steps, but also about what order of implementing and testing them will be most likely to efficiently lead to a correct solution. It's definitely a subjective question, and there are many reasonable answers to this question. Because of this, your answer will not be graded."
   ]
  },
  {
   "cell_type": "code",
   "execution_count": 4,
   "metadata": {},
   "outputs": [],
   "source": [
    "def isLeapYear(year):\n",
    "    if year % 400 == 0:\n",
    "        return True\n",
    "    if year % 100 == 0:\n",
    "        return False\n",
    "    if year % 4 == 0:\n",
    "        return True\n",
    "    return False"
   ]
  },
  {
   "cell_type": "code",
   "execution_count": 5,
   "metadata": {},
   "outputs": [],
   "source": [
    "def daysInMonth(year, month):\n",
    "    if month == 1 or month == 3 or month == 5 or month == 7 or month == 8 or month == 10 or month == 12:\n",
    "        return 31\n",
    "    else:\n",
    "        if month == 2:\n",
    "            if isLeapYear(year):\n",
    "                return 29\n",
    "            else:\n",
    "                return 28\n",
    "        else:\n",
    "            return 30"
   ]
  },
  {
   "cell_type": "code",
   "execution_count": 6,
   "metadata": {},
   "outputs": [],
   "source": [
    "def nextDay(year, month, day):\n",
    "    \"\"\"Simple version: assume every month has 30 days\"\"\"\n",
    "    if day < daysInMonth(year, month):\n",
    "        return year, month, day + 1\n",
    "    else:\n",
    "        if month == 12:\n",
    "            return year + 1, 1, 1\n",
    "        else:\n",
    "            return year, month + 1, 1"
   ]
  },
  {
   "cell_type": "code",
   "execution_count": 7,
   "metadata": {},
   "outputs": [
    {
     "name": "stdout",
     "output_type": "stream",
     "text": [
      "(2000, 3, 3)\n"
     ]
    }
   ],
   "source": [
    "print(nextDay(2000, 3, 2))"
   ]
  },
  {
   "cell_type": "code",
   "execution_count": 8,
   "metadata": {},
   "outputs": [
    {
     "name": "stdout",
     "output_type": "stream",
     "text": [
      "(2002, 3, 31)\n"
     ]
    }
   ],
   "source": [
    "print(nextDay(2002, 3, 30))"
   ]
  },
  {
   "cell_type": "code",
   "execution_count": 9,
   "metadata": {},
   "outputs": [
    {
     "name": "stdout",
     "output_type": "stream",
     "text": [
      "(2004, 2, 29)\n"
     ]
    }
   ],
   "source": [
    "print(nextDay(2004, 2, 28))"
   ]
  },
  {
   "cell_type": "code",
   "execution_count": 10,
   "metadata": {},
   "outputs": [
    {
     "name": "stdout",
     "output_type": "stream",
     "text": [
      "(1900, 3, 1)\n"
     ]
    }
   ],
   "source": [
    "print(nextDay(1900, 2, 28))"
   ]
  },
  {
   "cell_type": "code",
   "execution_count": 11,
   "metadata": {},
   "outputs": [
    {
     "name": "stdout",
     "output_type": "stream",
     "text": [
      "(2012, 2, 29)\n"
     ]
    }
   ],
   "source": [
    "print(nextDay(2012, 2, 28))"
   ]
  },
  {
   "cell_type": "code",
   "execution_count": 12,
   "metadata": {},
   "outputs": [
    {
     "name": "stdout",
     "output_type": "stream",
     "text": [
      "(2001, 8, 1)\n"
     ]
    }
   ],
   "source": [
    "print(nextDay(2001, 7, 31))"
   ]
  },
  {
   "cell_type": "code",
   "execution_count": 13,
   "metadata": {},
   "outputs": [
    {
     "data": {
      "text/plain": [
       "True"
      ]
     },
     "execution_count": 13,
     "metadata": {},
     "output_type": "execute_result"
    }
   ],
   "source": [
    "isLeapYear(2000)"
   ]
  },
  {
   "cell_type": "code",
   "execution_count": 14,
   "metadata": {},
   "outputs": [
    {
     "data": {
      "text/plain": [
       "False"
      ]
     },
     "execution_count": 14,
     "metadata": {},
     "output_type": "execute_result"
    }
   ],
   "source": [
    "isLeapYear(2001)"
   ]
  },
  {
   "cell_type": "code",
   "execution_count": 15,
   "metadata": {},
   "outputs": [
    {
     "data": {
      "text/plain": [
       "False"
      ]
     },
     "execution_count": 15,
     "metadata": {},
     "output_type": "execute_result"
    }
   ],
   "source": [
    "isLeapYear(1900)"
   ]
  },
  {
   "cell_type": "code",
   "execution_count": 16,
   "metadata": {},
   "outputs": [
    {
     "data": {
      "text/plain": [
       "False"
      ]
     },
     "execution_count": 16,
     "metadata": {},
     "output_type": "execute_result"
    }
   ],
   "source": [
    "isLeapYear(2019)"
   ]
  },
  {
   "cell_type": "code",
   "execution_count": 17,
   "metadata": {},
   "outputs": [],
   "source": [
    "def daysBetweenDates(year1, month1, day1, year2, month2, day2):\n",
    "    \"\"\"Returns the number of days between year1/month1/day1\n",
    "       and year2/month2/day2. Assumes inputs are valid dates\n",
    "       in Gregorian calendar, and the first date is not after\n",
    "       the second.\"\"\"\n",
    "        \n",
    "    # YOUR CODE HERE!\n",
    "   \n",
    "    days = 0\n",
    "    assert not dateIsBefore(year2, month2, day2, year1, month1, day1)\n",
    "    while dateIsBefore(year1, month1, day1, year2, month2, day2):\n",
    "        year1, month1, day1 = nextDay(year1, month1, day1)\n",
    "        days += 1\n",
    "    return days\n",
    " "
   ]
  },
  {
   "cell_type": "code",
   "execution_count": 18,
   "metadata": {},
   "outputs": [
    {
     "name": "stdout",
     "output_type": "stream",
     "text": [
      "0\n"
     ]
    }
   ],
   "source": [
    "print(daysBetweenDates(2017, 12, 30, 2017, 12, 30)) # == 0"
   ]
  },
  {
   "cell_type": "code",
   "execution_count": 19,
   "metadata": {},
   "outputs": [
    {
     "name": "stdout",
     "output_type": "stream",
     "text": [
      "1\n"
     ]
    }
   ],
   "source": [
    "# test adjacent days\n",
    "print(daysBetweenDates(2017, 12, 30, 2017, 12, 31)) # == 1)"
   ]
  },
  {
   "cell_type": "code",
   "execution_count": 20,
   "metadata": {},
   "outputs": [
    {
     "name": "stdout",
     "output_type": "stream",
     "text": [
      "2\n"
     ]
    }
   ],
   "source": [
    "# test new year\n",
    "print(daysBetweenDates(2017, 12, 30, 2018, 1,  1))  # == 2)"
   ]
  },
  {
   "cell_type": "code",
   "execution_count": 21,
   "metadata": {},
   "outputs": [
    {
     "name": "stdout",
     "output_type": "stream",
     "text": [
      "365\n",
      "Congratulations! Your daysBetweenDates\n",
      "function is working correctly!\n"
     ]
    }
   ],
   "source": [
    "# test full year difference\n",
    "print(daysBetweenDates(2012, 6, 29, 2013, 6, 29)) # == 365)\n",
    "\n",
    "print(\"Congratulations! Your daysBetweenDates\")\n",
    "print(\"function is working correctly!\")"
   ]
  },
  {
   "cell_type": "code",
   "execution_count": 22,
   "metadata": {},
   "outputs": [
    {
     "name": "stdout",
     "output_type": "stream",
     "text": [
      "366\n"
     ]
    }
   ],
   "source": [
    "# test full leap year difference\n",
    "print(daysBetweenDates(2011, 6, 29, 2012, 6, 29)) # == 366)\n"
   ]
  },
  {
   "cell_type": "code",
   "execution_count": 23,
   "metadata": {},
   "outputs": [
    {
     "name": "stdout",
     "output_type": "stream",
     "text": [
      "730\n"
     ]
    }
   ],
   "source": [
    "# test full leap year difference\n",
    "print(daysBetweenDates(2000, 6, 29, 2002, 6, 29)) # == 366)\n"
   ]
  },
  {
   "cell_type": "code",
   "execution_count": 24,
   "metadata": {},
   "outputs": [
    {
     "name": "stdout",
     "output_type": "stream",
     "text": [
      "1065\n"
     ]
    }
   ],
   "source": [
    "# test full leap year difference\n",
    "print(daysBetweenDates(2000, 7, 29, 2003, 6, 29)) # == 366)\n"
   ]
  },
  {
   "cell_type": "code",
   "execution_count": 25,
   "metadata": {
    "scrolled": false
   },
   "outputs": [
    {
     "name": "stdout",
     "output_type": "stream",
     "text": [
      "364\n"
     ]
    }
   ],
   "source": [
    "print(daysBetweenDates(1900, 1, 1, 1900, 12, 31))"
   ]
  },
  {
   "cell_type": "code",
   "execution_count": 26,
   "metadata": {
    "scrolled": false
   },
   "outputs": [
    {
     "name": "stdout",
     "output_type": "stream",
     "text": [
      "365\n"
     ]
    }
   ],
   "source": [
    "print(daysBetweenDates(2000, 1, 1, 2000, 12, 31))"
   ]
  },
  {
   "cell_type": "code",
   "execution_count": 27,
   "metadata": {},
   "outputs": [
    {
     "name": "stdout",
     "output_type": "stream",
     "text": [
      "365\n"
     ]
    }
   ],
   "source": [
    "print(daysBetweenDates(2013, 1, 1, 2014, 1, 1))"
   ]
  },
  {
   "cell_type": "code",
   "execution_count": 28,
   "metadata": {
    "scrolled": false
   },
   "outputs": [
    {
     "name": "stdout",
     "output_type": "stream",
     "text": [
      "365\n"
     ]
    }
   ],
   "source": [
    "print(daysBetweenDates(2012, 1, 1, 2012, 12, 31))"
   ]
  },
  {
   "cell_type": "code",
   "execution_count": 29,
   "metadata": {},
   "outputs": [
    {
     "name": "stdout",
     "output_type": "stream",
     "text": [
      "36523\n"
     ]
    }
   ],
   "source": [
    "print(daysBetweenDates(1900, 1, 1, 1999, 12, 31))"
   ]
  },
  {
   "cell_type": "code",
   "execution_count": 30,
   "metadata": {},
   "outputs": [
    {
     "name": "stdout",
     "output_type": "stream",
     "text": [
      "1904\n",
      "1908\n",
      "1912\n",
      "1916\n",
      "1920\n",
      "1924\n",
      "1928\n",
      "1932\n",
      "1936\n",
      "1940\n",
      "1944\n",
      "1948\n",
      "1952\n",
      "1956\n",
      "1960\n",
      "1964\n",
      "1968\n",
      "1972\n",
      "1976\n",
      "1980\n",
      "1984\n",
      "1988\n",
      "1992\n",
      "1996\n"
     ]
    }
   ],
   "source": [
    "for year in range(1900, 1999 + 1):\n",
    "    if isLeapYear(year):\n",
    "        print(year)"
   ]
  },
  {
   "cell_type": "code",
   "execution_count": 31,
   "metadata": {},
   "outputs": [
    {
     "name": "stdout",
     "output_type": "stream",
     "text": [
      "Congratulations! Your daysBetweenDates\n",
      "function is working correctly!\n"
     ]
    }
   ],
   "source": [
    "def testDaysBetweenDates():\n",
    "    \n",
    "    # test same day\n",
    "    assert(daysBetweenDates(2017, 12, 30, 2017, 12, 30) == 0)\n",
    "    # test adjacent days\n",
    "    assert(daysBetweenDates(2017, 12, 30, 2017, 12, 31) == 1)\n",
    "    # test new year\n",
    "    assert(daysBetweenDates(2017, 12, 30, 2018, 1,  1)  == 2)\n",
    "    # test full year difference\n",
    "    assert(daysBetweenDates(2012, 6, 29, 2013, 6, 29)  == 365)\n",
    "    \n",
    "    print(\"Congratulations! Your daysBetweenDates\")\n",
    "    print(\"function is working correctly!\")\n",
    "    \n",
    "testDaysBetweenDates()"
   ]
  },
  {
   "cell_type": "code",
   "execution_count": 32,
   "metadata": {},
   "outputs": [
    {
     "name": "stdout",
     "output_type": "stream",
     "text": [
      "Test case passed!\n",
      "Test case passed!\n",
      "Test case passed!\n",
      "Test case passed!\n",
      "Test case passed!\n"
     ]
    }
   ],
   "source": [
    "def test():\n",
    "    test_cases = [((2012,1,1,2012,2,28), 58), \n",
    "                  ((2012,1,1,2012,3,1), 60),\n",
    "                  ((2011,6,30,2012,6,30), 366),\n",
    "                  ((2011,1,1,2012,8,8), 585 ),\n",
    "                  ((1900,1,1,1999,12,31), 36523)]\n",
    "    \n",
    "    for (args, answer) in test_cases:\n",
    "        result = daysBetweenDates(*args)\n",
    "        if result != answer:\n",
    "            print (\"Test with data:\", args, \"failed\")\n",
    "        else:\n",
    "            print (\"Test case passed!\")\n",
    "\n",
    "test()"
   ]
  }
 ],
 "metadata": {
  "kernelspec": {
   "display_name": "Python 3",
   "language": "python",
   "name": "python3"
  },
  "language_info": {
   "codemirror_mode": {
    "name": "ipython",
    "version": 3
   },
   "file_extension": ".py",
   "mimetype": "text/x-python",
   "name": "python",
   "nbconvert_exporter": "python",
   "pygments_lexer": "ipython3",
   "version": "3.5.4"
  }
 },
 "nbformat": 4,
 "nbformat_minor": 2
}
